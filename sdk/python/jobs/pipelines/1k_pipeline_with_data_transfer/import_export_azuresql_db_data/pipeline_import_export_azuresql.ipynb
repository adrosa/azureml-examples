{
 "cells": [
  {
   "attachments": {},
   "cell_type": "markdown",
   "metadata": {},
   "source": [
    "# Pipeline job using data transfer to merge data\n",
    "\n",
    "**Requirements** - In order to benefit from this tutorial, you will need:\n",
    "- A basic understanding of Machine Learning\n",
    "- An Azure account with an active subscription - [Create an account for free](https://azure.microsoft.com/free/?WT.mc_id=A261C142F)\n",
    "- An Azure ML workspace with computer cluster - [Configure workspace](../../configuration.ipynb)\n",
    "- A python environment\n",
    "- Installed Azure Machine Learning Python SDK v2 - [install instructions](../../../README.md) - check the getting started section\n",
    "\n",
    "**Learning Objectives** - By the end of this tutorial, you should be able to:\n",
    "- Connect to your AML workspace from the Python SDK\n",
    "- Create `datatranster` component using load component function.\n",
    "- Create `PipelineJob` with `datatranster` component.\n",
    "\n",
    "**Motivations** - This notebook covers the scenario that user define pipeline component using dsl decorator."
   ]
  },
  {
   "attachments": {},
   "cell_type": "markdown",
   "metadata": {},
   "source": [
    "# 0. Create a SQL Database resource in Azure\n",
    "\n",
    "Follow following docs to create a SQL Database resource in Azure:\n",
    "- https://learn.microsoft.com/en-us/python/api/overview/azure/sql?view=azure-python\n",
    "- https://learn.microsoft.com/en-us/azure/azure-sql/database/design-first-database-azure-data-studio?view=azuresql"
   ]
  },
  {
   "cell_type": "markdown",
   "metadata": {},
   "source": [
    "# 1. Connect to Azure Machine Learning Workspace\n",
    "\n",
    "The [workspace](https://docs.microsoft.com/en-us/azure/machine-learning/concept-workspace) is the top-level resource for Azure Machine Learning, providing a centralized place to work with all the artifacts you create when you use Azure Machine Learning. In this section we will connect to the workspace in which the job will be run.\n",
    "\n",
    "## 1.1 Import the required libraries"
   ]
  },
  {
   "cell_type": "code",
   "execution_count": null,
   "metadata": {},
   "outputs": [],
   "source": [
    "# Import required libraries\n",
    "from azure.identity import DefaultAzureCredential, InteractiveBrowserCredential\n",
    "\n",
    "from azure.ai.ml import MLClient, Input\n",
    "from azure.ai.ml.dsl import pipeline\n",
    "from azure.ai.ml import load_component"
   ]
  },
  {
   "cell_type": "code",
   "execution_count": null,
   "metadata": {},
   "outputs": [],
   "source": [
    "from azure.ai.ml._version import VERSION\n",
    "\n",
    "print(VERSION)"
   ]
  },
  {
   "cell_type": "markdown",
   "metadata": {},
   "source": [
    "## 1.2 Configure credential\n",
    "\n",
    "We are using `DefaultAzureCredential` to get access to workspace. \n",
    "`DefaultAzureCredential` should be capable of handling most Azure SDK authentication scenarios. \n",
    "\n",
    "Reference for more available credentials if it does not work for you: [configure credential example](../../configuration.ipynb), [azure-identity reference doc](https://docs.microsoft.com/en-us/python/api/azure-identity/azure.identity?view=azure-python)."
   ]
  },
  {
   "cell_type": "code",
   "execution_count": null,
   "metadata": {},
   "outputs": [],
   "source": [
    "try:\n",
    "    credential = DefaultAzureCredential()\n",
    "    # Check if given credential can get token successfully.\n",
    "    credential.get_token(\"https://management.azure.com/.default\")\n",
    "except Exception as ex:\n",
    "    # Fall back to InteractiveBrowserCredential in case DefaultAzureCredential not work\n",
    "    credential = InteractiveBrowserCredential()"
   ]
  },
  {
   "cell_type": "markdown",
   "metadata": {},
   "source": [
    "## 1.3 Get a handle to the workspace\n",
    "\n",
    "We use config file to connect to a workspace. The Azure ML workspace should be configured with computer cluster. [Check this notebook for configure a workspace](../../configuration.ipynb)"
   ]
  },
  {
   "cell_type": "code",
   "execution_count": null,
   "metadata": {},
   "outputs": [],
   "source": [
    "# Get a handle to workspace\n",
    "ml_client = MLClient.from_config(credential=credential)\n",
    "\n",
    "# Retrieve an already attached Azure Machine Learning Compute.\n",
    "cluster_name = \"cpu-cluster\"\n",
    "print(ml_client.compute.get(cluster_name))"
   ]
  },
  {
   "attachments": {},
   "cell_type": "markdown",
   "metadata": {},
   "source": [
    "# 2. Define and create components into workspace\n",
    "## 2.1 Define data transfer component\n",
    "### 2.1.1 Load components from YAML"
   ]
  },
  {
   "cell_type": "code",
   "execution_count": 4,
   "metadata": {},
   "outputs": [
    {
     "ename": "NameError",
     "evalue": "name 'load_component' is not defined",
     "output_type": "error",
     "traceback": [
      "\u001b[1;31m---------------------------------------------------------------------------\u001b[0m",
      "\u001b[1;31mNameError\u001b[0m                                 Traceback (most recent call last)",
      "\u001b[1;32md:\\azureml-examples\\sdk\\python\\jobs\\pipelines\\1k_pipeline_with_data_transfer\\import_export_azuresql_db_data\\pipeline_import_export_azuresql.ipynb Cell 11\u001b[0m in \u001b[0;36m<cell line: 2>\u001b[1;34m()\u001b[0m\n\u001b[0;32m      <a href='vscode-notebook-cell:/d%3A/azureml-examples/sdk/python/jobs/pipelines/1k_pipeline_with_data_transfer/import_export_azuresql_db_data/pipeline_import_export_azuresql.ipynb#X12sZmlsZQ%3D%3D?line=0'>1</a>\u001b[0m components_dir \u001b[39m=\u001b[39m \u001b[39m\"\u001b[39m\u001b[39m/../../../../../../cli/assets/component\u001b[39m\u001b[39m\"\u001b[39m\n\u001b[1;32m----> <a href='vscode-notebook-cell:/d%3A/azureml-examples/sdk/python/jobs/pipelines/1k_pipeline_with_data_transfer/import_export_azuresql_db_data/pipeline_import_export_azuresql.ipynb#X12sZmlsZQ%3D%3D?line=1'>2</a>\u001b[0m data_merge \u001b[39m=\u001b[39m load_component(source\u001b[39m=\u001b[39m\u001b[39mf\u001b[39m\u001b[39m\"\u001b[39m\u001b[39m{\u001b[39;00mcomponents_dir\u001b[39m}\u001b[39;00m\u001b[39m/data_merge.yml\u001b[39m\u001b[39m\"\u001b[39m)\n",
      "\u001b[1;31mNameError\u001b[0m: name 'load_component' is not defined"
     ]
    }
   ],
   "source": [
    "components_dir = \"/../../../../../../cli/assets/component\"\n",
    "data_merge = load_component(source=f\"{components_dir}/data_merge.yml\")"
   ]
  },
  {
   "attachments": {},
   "cell_type": "markdown",
   "metadata": {},
   "source": [
    "### 2.1.2 (Optional) Create component to workspace"
   ]
  },
  {
   "cell_type": "code",
   "execution_count": null,
   "metadata": {},
   "outputs": [],
   "source": [
    "registered_component = ml_client.components.create_or_update(\n",
    "    data_merge\n",
    ")"
   ]
  },
  {
   "attachments": {},
   "cell_type": "markdown",
   "metadata": {},
   "source": [
    "# 3. Create workspace connection to SQL database\n",
    "You can find more examples here: https://github.com/Azure/azureml-examples/tree/main/sdk/python/resources/connections\n"
   ]
  },
  {
   "attachments": {},
   "cell_type": "markdown",
   "metadata": {},
   "source": [
    "# 4. Build pipeline job with data transfer component\n",
    "## 4.1 Build pipeline"
   ]
  },
  {
   "cell_type": "code",
   "execution_count": null,
   "metadata": {},
   "outputs": [],
   "source": [
    "# Construct pipeline\n",
    "@pipeline\n",
    "def nyc_taxi_data_regression(\n",
    "    pipeline_raw_data: Input,\n",
    "    compute_train_node: str,\n",
    "):\n",
    "    # Use data pipeline component\n",
    "    data_pipeline_node = data_pipeline(\n",
    "        raw_data=pipeline_raw_data,\n",
    "    )\n",
    "    # Use train pipeline component\n",
    "    train_pipeline_node = train_pipeline(\n",
    "        train_data=data_pipeline_node.outputs.train_data,\n",
    "        compute_train_node=compute_train_node,\n",
    "    )\n",
    "    # Return: pipeline outputs\n",
    "    return {\n",
    "        \"pipeline_job_trained_model\": train_pipeline_node.outputs.trained_model,\n",
    "        \"pipeline_job_predictions\": train_pipeline_node.outputs.predictions,\n",
    "        \"pipeline_job_score_report\": train_pipeline_node.outputs.score_report,\n",
    "    }\n",
    "\n",
    "\n",
    "pipeline_job = nyc_taxi_data_regression(\n",
    "    pipeline_raw_data=Input(type=\"uri_folder\", path=\"./data/\"),\n",
    "    compute_train_node=\"gpu-cluster\",\n",
    ")\n",
    "\n",
    "# set pipeline level compute\n",
    "pipeline_job.settings.default_compute = \"cpu-cluster\""
   ]
  },
  {
   "cell_type": "code",
   "execution_count": null,
   "metadata": {},
   "outputs": [],
   "source": [
    "# Inspect built pipeline\n",
    "print(pipeline_job)"
   ]
  },
  {
   "cell_type": "markdown",
   "metadata": {},
   "source": [
    "## 3.2 Submit pipeline job"
   ]
  },
  {
   "cell_type": "code",
   "execution_count": null,
   "metadata": {},
   "outputs": [],
   "source": [
    "# Submit pipeline job to workspace\n",
    "pipeline_job = ml_client.jobs.create_or_update(\n",
    "    pipeline_job, experiment_name=\"nyc_taxi_data_regression_with_pipeline_component\"\n",
    ")\n",
    "pipeline_job"
   ]
  },
  {
   "cell_type": "code",
   "execution_count": null,
   "metadata": {},
   "outputs": [],
   "source": [
    "# Wait until the job completes\n",
    "ml_client.jobs.stream(pipeline_job.name)"
   ]
  },
  {
   "cell_type": "markdown",
   "metadata": {},
   "source": [
    "# Next Steps\n",
    "You can see further examples of running a pipeline job [here](../README.md)"
   ]
  }
 ],
 "metadata": {
  "description": {
   "description": "Create pipeline with CommandComponents from local YAML file"
  },
  "kernelspec": {
   "display_name": "sdk-preview",
   "language": "python",
   "name": "python3"
  },
  "language_info": {
   "codemirror_mode": {
    "name": "ipython",
    "version": 3
   },
   "file_extension": ".py",
   "mimetype": "text/x-python",
   "name": "python",
   "nbconvert_exporter": "python",
   "pygments_lexer": "ipython3",
   "version": "3.8.12"
  }
 },
 "nbformat": 4,
 "nbformat_minor": 2
}
